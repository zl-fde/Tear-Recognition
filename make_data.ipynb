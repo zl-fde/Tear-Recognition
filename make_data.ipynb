{
 "cells": [
  {
   "cell_type": "code",
   "execution_count": 2,
   "id": "36e79c4f-cd41-46a3-8865-0ffc37ba8685",
   "metadata": {
    "tags": []
   },
   "outputs": [],
   "source": [
    "from pathlib import Path"
   ]
  },
  {
   "cell_type": "code",
   "execution_count": 3,
   "id": "8e0d44aa-8db7-4981-8210-2c79c61d2256",
   "metadata": {
    "tags": []
   },
   "outputs": [],
   "source": [
    "root_path = Path.cwd()\n",
    "\n",
    "tear_data = root_path / \"tear_data\"\n",
    "tear_data_pos = tear_data / \"pos\"\n",
    "tear_data_neg = tear_data / \"neg\"\n",
    "\n",
    "simple_split = root_path / \"simple_split_fig\""
   ]
  },
  {
   "cell_type": "code",
   "execution_count": null,
   "id": "ab154a20-f406-44a0-900a-51b6f9ee3ca1",
   "metadata": {},
   "outputs": [],
   "source": [
    "tear_data.mkdir()\n",
    "tear_data_pos.mkdir()\n",
    "tear_data_neg.mkdir()"
   ]
  },
  {
   "cell_type": "code",
   "execution_count": 4,
   "id": "0d52175d-b122-4e45-adc2-b96663689ff0",
   "metadata": {
    "tags": []
   },
   "outputs": [],
   "source": [
    "label_path = simple_split / \"label.txt\"\n",
    "label = label_path.read_text().split()"
   ]
  },
  {
   "cell_type": "code",
   "execution_count": 5,
   "id": "c86af381-c80c-428e-88be-c549abcc47ec",
   "metadata": {
    "tags": []
   },
   "outputs": [],
   "source": [
    "pic_list = [path for path in simple_split.iterdir() if path.name[-3:] == 'png']"
   ]
  },
  {
   "cell_type": "code",
   "execution_count": 12,
   "id": "20f151ea-2fdd-4c6b-9d90-d1c892fba177",
   "metadata": {
    "tags": []
   },
   "outputs": [
    {
     "name": "stdout",
     "output_type": "stream",
     "text": [
      "60 -> neg\n",
      "76 -> neg\n",
      "189 -> neg\n",
      "132 -> neg\n",
      "90 -> neg\n",
      "61 -> neg\n",
      "12 -> neg\n",
      "59 -> neg\n",
      "28 -> neg\n",
      "52 -> neg\n",
      "51 -> neg\n",
      "231 -> neg\n",
      "73 -> neg\n",
      "68 -> neg\n",
      "75 -> neg\n",
      "2 -> neg\n",
      "31 -> neg\n",
      "79 -> neg\n",
      "217 -> neg\n",
      "58 -> neg\n",
      "70 -> neg\n",
      "84 -> neg\n",
      "92 -> neg\n",
      "262 -> neg\n",
      "40 -> neg\n",
      "1 -> neg\n",
      "250 -> neg\n",
      "74 -> neg\n",
      "130 -> neg\n",
      "121 -> neg\n",
      "89 -> neg\n",
      "78 -> neg\n",
      "65 -> neg\n",
      "80 -> neg\n",
      "234 -> neg\n",
      "77 -> neg\n",
      "248 -> neg\n",
      "69 -> neg\n",
      "0 -> neg\n",
      "66 -> neg\n",
      "82 -> neg\n",
      "86 -> neg\n"
     ]
    }
   ],
   "source": [
    "for path in pic_list:\n",
    "    id = path.name[:-4]\n",
    "    if id in label:\n",
    "        path.rename(tear_data_neg / path.name)\n",
    "        print(f'{id} -> neg')\n",
    "    else:\n",
    "        path.rename(tear_data_pos / path.name)"
   ]
  },
  {
   "cell_type": "code",
   "execution_count": 5,
   "id": "86cd3a80-7796-4120-976c-1ec21a9c18fa",
   "metadata": {},
   "outputs": [],
   "source": [
    "neg_list = [path for path in tear_data_neg.iterdir() if path.name[-3:] == 'png']"
   ]
  },
  {
   "cell_type": "code",
   "execution_count": 10,
   "id": "c3f6d02d-044d-493c-8526-61a04bcd3a17",
   "metadata": {},
   "outputs": [
    {
     "data": {
      "text/plain": [
       "'60'"
      ]
     },
     "execution_count": 10,
     "metadata": {},
     "output_type": "execute_result"
    }
   ],
   "source": [
    "neg_list[0].name[:-4]"
   ]
  },
  {
   "cell_type": "code",
   "execution_count": 13,
   "id": "fca3c67c-e07c-4d66-87e8-13a6b04b2b53",
   "metadata": {},
   "outputs": [
    {
     "name": "stderr",
     "output_type": "stream",
     "text": [
      "/tmp/ipykernel_138292/2748269779.py:5: DeprecationWarning: FLIP_LEFT_RIGHT is deprecated and will be removed in Pillow 10 (2023-07-01). Use Transpose.FLIP_LEFT_RIGHT instead.\n",
      "  img.transpose(Image.FLIP_LEFT_RIGHT).save(path.parent / tmp_name)\n",
      "/tmp/ipykernel_138292/2748269779.py:7: DeprecationWarning: FLIP_TOP_BOTTOM is deprecated and will be removed in Pillow 10 (2023-07-01). Use Transpose.FLIP_TOP_BOTTOM instead.\n",
      "  img.transpose(Image.FLIP_TOP_BOTTOM).save(path.parent / tmp_name)\n"
     ]
    }
   ],
   "source": [
    "from PIL import Image\n",
    "for path in neg_list:\n",
    "    img = Image.open(path)\n",
    "    tmp_name = path.name[:-4]+'lr.png'\n",
    "    img.transpose(Image.FLIP_LEFT_RIGHT).save(path.parent / tmp_name)\n",
    "    tmp_name = path.name[:-4]+'ud.png'\n",
    "    img.transpose(Image.FLIP_TOP_BOTTOM).save(path.parent / tmp_name)"
   ]
  }
 ],
 "metadata": {
  "kernelspec": {
   "display_name": "DeepLn",
   "language": "python",
   "name": "deepln"
  },
  "language_info": {
   "codemirror_mode": {
    "name": "ipython",
    "version": 3
   },
   "file_extension": ".py",
   "mimetype": "text/x-python",
   "name": "python",
   "nbconvert_exporter": "python",
   "pygments_lexer": "ipython3",
   "version": "3.9.7"
  }
 },
 "nbformat": 4,
 "nbformat_minor": 5
}
