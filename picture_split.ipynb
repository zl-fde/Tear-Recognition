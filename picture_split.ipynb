{
 "cells": [
  {
   "cell_type": "code",
   "execution_count": 6,
   "id": "0944f226-ccf2-46a5-97d9-b0e913d4547e",
   "metadata": {},
   "outputs": [],
   "source": [
    "import numpy as np \n",
    "from pathlib import Path\n",
    "from PIL import Image\n",
    "from einops import rearrange\n",
    "import re"
   ]
  },
  {
   "cell_type": "code",
   "execution_count": 7,
   "id": "96fdc483-6305-4764-a1c0-1db3555433f3",
   "metadata": {},
   "outputs": [],
   "source": [
    "root_path = Path.cwd()\n",
    "fig_path = root_path / \"fig\"\n",
    "\n",
    "pic_list = [path for path in fig_path.iterdir() if path.name[-3:] == \"png\"]\n",
    "output_path = root_path / \"split_fig\"\n",
    "if not output_path.exists():\n",
    "    output_path.mkdir()"
   ]
  },
  {
   "cell_type": "code",
   "execution_count": 9,
   "id": "0f216e55-6a6e-4f4b-b64d-9cf826e61bf4",
   "metadata": {},
   "outputs": [],
   "source": [
    "def set_table(a):\n",
    "    table = []\n",
    "    for i in range(256):\n",
    "        if i < a:\n",
    "            table.append(0)\n",
    "        else:\n",
    "            table.append(1)\n",
    "    return table\n",
    "\n",
    "def get_block_num(path):\n",
    "    img = Image.open(path).resize((1024, 128), Image.Resampling.LANCZOS)\n",
    "    tmp = np.array(img.point(set_table(50),'1') ).sum(axis=0) > 50\n",
    "    feature = ''.join(str(list(tmp.astype(int))).strip('[]').split(', '))\n",
    "    return len(re.findall('011111', feature))\n",
    "\n",
    "def split_image(input_path, output_path, pic_name, h_split=2):\n",
    "    w_split = get_block_num(input_path)\n",
    "    img = Image.open(input_path)\n",
    "    w, h = img.size\n",
    "    pic = np.array(img.resize((w//w_split*w_split, h//h_split*h_split), Image.Resampling.LANCZOS))\n",
    "    pic_split = rearrange(pic, \"(d1 H) (d2 W) -> (d1 d2) H W\",  d1 = h_split, d2 = w_split)\n",
    "    for i, pic in enumerate(pic_split):\n",
    "        tmp = Image.fromarray(pic)\n",
    "        file_name = str(pic_name) + '_' + str(i) + '.png'\n",
    "        tmp.save(output_path / file_name)"
   ]
  },
  {
   "cell_type": "code",
   "execution_count": 10,
   "id": "fa58414f-4f12-4ca8-bf95-99237d981d3a",
   "metadata": {},
   "outputs": [
    {
     "name": "stdout",
     "output_type": "stream",
     "text": [
      "finish picture:  2021_10_12__22_47_12.avi__1.png\n",
      "finish picture:  2021_09_24__23_27_35.png\n",
      "finish picture:  2021_10_12__22_44_58.avi__1.png\n",
      "finish picture:  2021_09_24__21_32_11.png\n",
      "finish picture:  2021_10_12__22_46_23.avi__1.png\n"
     ]
    }
   ],
   "source": [
    "for i, path in enumerate(pic_list):\n",
    "    split_image(path, output_path, i)\n",
    "    print('finish picture: ', str(path.name))"
   ]
  },
  {
   "cell_type": "code",
   "execution_count": null,
   "id": "2e521397-895f-4436-bcbb-1766db480548",
   "metadata": {},
   "outputs": [],
   "source": []
  }
 ],
 "metadata": {
  "kernelspec": {
   "display_name": "DeepLn",
   "language": "python",
   "name": "deepln"
  },
  "language_info": {
   "codemirror_mode": {
    "name": "ipython",
    "version": 3
   },
   "file_extension": ".py",
   "mimetype": "text/x-python",
   "name": "python",
   "nbconvert_exporter": "python",
   "pygments_lexer": "ipython3",
   "version": "3.9.7"
  }
 },
 "nbformat": 4,
 "nbformat_minor": 5
}
